{
  "nbformat": 4,
  "nbformat_minor": 0,
  "metadata": {
    "kernelspec": {
      "display_name": "Python 3",
      "language": "python",
      "name": "python3"
    },
    "language_info": {
      "codemirror_mode": {
        "name": "ipython",
        "version": 3
      },
      "file_extension": ".py",
      "mimetype": "text/x-python",
      "name": "python",
      "nbconvert_exporter": "python",
      "pygments_lexer": "ipython3",
      "version": "3.7.6"
    },
    "colab": {
      "name": "Copy of Q&A activity student file.ipynb",
      "provenance": [],
      "collapsed_sections": [],
      "include_colab_link": true
    }
  },
  "cells": [
    {
      "cell_type": "markdown",
      "metadata": {
        "id": "view-in-github",
        "colab_type": "text"
      },
      "source": [
        "<a href=\"https://colab.research.google.com/github/HeleenaJoy/DSA_Activities/blob/main/Copy_of_Q%26A_activity_student_file.ipynb\" target=\"_parent\"><img src=\"https://colab.research.google.com/assets/colab-badge.svg\" alt=\"Open In Colab\"/></a>"
      ]
    },
    {
      "cell_type": "markdown",
      "metadata": {
        "id": "4z_Z-K1tlrS7"
      },
      "source": [
        "## 1. Complete the following code to find the area of an equilateral triangle. Output should be as displayed"
      ]
    },
    {
      "cell_type": "code",
      "metadata": {
        "id": "rP2qFD_SlrS_",
        "colab": {
          "base_uri": "https://localhost:8080/"
        },
        "outputId": "eb12b53d-37f0-4c1d-ceb2-f4b18244fe76"
      },
      "source": [
        "import math\n",
        "side = float(input(\"Enter the side of the equilateral triangle: \"))\n",
        "area = ((math.sqrt(3))/4)*pow(side,2)\n",
        "print('Area = ',round(area,3))\n"
      ],
      "execution_count": 2,
      "outputs": [
        {
          "output_type": "stream",
          "name": "stdout",
          "text": [
            "Enter the side of the equilateral triangle: 4\n",
            "Area =  6.928\n"
          ]
        }
      ]
    },
    {
      "cell_type": "markdown",
      "metadata": {
        "id": "TjVKjIfclrTB"
      },
      "source": [
        "## 2. Write a program to count the number of each characters in a string"
      ]
    },
    {
      "cell_type": "code",
      "metadata": {
        "id": "JY5seVUQlrTC",
        "colab": {
          "base_uri": "https://localhost:8080/"
        },
        "outputId": "397d0ed1-6fa3-4f50-ea6a-3d4e26ab047a"
      },
      "source": [
        "a = []\n",
        "string = input('enter string\\n')\n",
        "for i in string:\n",
        "    if i in a:\n",
        "        continue\n",
        "    else:\n",
        "        a.append(i)\n",
        "        print(i,'=',string.count(i))"
      ],
      "execution_count": null,
      "outputs": [
        {
          "output_type": "stream",
          "name": "stdout",
          "text": [
            "enter string\n",
            "heleena\n",
            "h = 1\n",
            "e = 3\n",
            "l = 1\n",
            "n = 1\n",
            "a = 1\n"
          ]
        }
      ]
    },
    {
      "cell_type": "markdown",
      "metadata": {
        "id": "l3LCULfklrTD"
      },
      "source": [
        "## Write a program to find the area and perimeter of a rectangle using functions"
      ]
    },
    {
      "cell_type": "code",
      "metadata": {
        "id": "8haQD8edlrTD",
        "colab": {
          "base_uri": "https://localhost:8080/"
        },
        "outputId": "bcd4fc85-7c7c-4f34-e08e-3b4e5e4c6590"
      },
      "source": [
        "def area(l,b):\n",
        "  return l*b\n",
        "def perimeter(l,b):\n",
        "  return 2*(l+b)\n",
        "length = int(input('Enter length'))  \n",
        "breadth = int(input('Enter breadth'))\n",
        "print(area(length,breadth))\n",
        "print(perimeter(length,breadth))    "
      ],
      "execution_count": null,
      "outputs": [
        {
          "output_type": "stream",
          "name": "stdout",
          "text": [
            "Enter length3 \n",
            "Enter breadth5\n",
            "15\n",
            "16\n"
          ]
        }
      ]
    },
    {
      "cell_type": "markdown",
      "metadata": {
        "id": "JHK4ZdsflrTE"
      },
      "source": [
        "## 4. Write a program to print the fibonacci series till a specified number"
      ]
    },
    {
      "cell_type": "code",
      "metadata": {
        "id": "LyBEj-4SlrTE",
        "colab": {
          "base_uri": "https://localhost:8080/"
        },
        "outputId": "0e69e56a-0cbc-4dcb-80c0-d08ce0f3b840"
      },
      "source": [
        "n = int(input('Enter limit'))\n",
        "n1 = 0\n",
        "n2 = 1\n",
        "n3 =0\n",
        "print(n1)\n",
        "print(n2)\n",
        "while(n3 < n):\n",
        "  n3 = n2+n1\n",
        "  n1 = n2\n",
        "  n2=n3\n",
        "  print(n3)\n",
        "\n",
        "\n",
        "\n",
        "  "
      ],
      "execution_count": null,
      "outputs": [
        {
          "output_type": "stream",
          "name": "stdout",
          "text": [
            "Enter limit34\n",
            "0\n",
            "1\n",
            "1\n",
            "2\n",
            "3\n",
            "5\n",
            "8\n",
            "13\n",
            "21\n",
            "34\n"
          ]
        }
      ]
    },
    {
      "cell_type": "markdown",
      "metadata": {
        "id": "u4uBUcQKlrTE"
      },
      "source": [
        "## 5. Complete the following code to find the minimum of 3 number using cinditional statements. Output should be as displayed"
      ]
    },
    {
      "cell_type": "code",
      "metadata": {
        "id": "XdZwrZjIlrTF",
        "colab": {
          "base_uri": "https://localhost:8080/"
        },
        "outputId": "2b994697-ce8e-4faf-e419-b1ff2261f74d"
      },
      "source": [
        "a,b,c = [int(x) for x in input(\"Enter three numbers followed by  : \").split()]\n",
        "\n",
        "print(\"First number :\",a)\n",
        "print(\"Second number :\",b)\n",
        "print(\"Third number :\",c)\n",
        "\n",
        "if(a==b and a==c):\n",
        "    print(\"Entered numbers are equal!!!\")\n",
        "elif(a<b and a<c):\n",
        "    print(a,\" is smallest\")\n",
        "elif(b<a and b<c):\n",
        "    print(b,\" is smallest\")\n",
        "else:\n",
        "    print(c,\" is smallest\")"
      ],
      "execution_count": null,
      "outputs": [
        {
          "output_type": "stream",
          "name": "stdout",
          "text": [
            "Enter three numbers followed by  : 3 -11 12\n",
            "First number : 3\n",
            "Second number : -11\n",
            "Third number : 12\n",
            "-11  is smallest\n"
          ]
        }
      ]
    },
    {
      "cell_type": "code",
      "metadata": {
        "colab": {
          "base_uri": "https://localhost:8080/"
        },
        "id": "FTqqtb1yMB84",
        "outputId": "aefa444f-0f15-4571-9f7b-513468f993da"
      },
      "source": [
        "a,b,c = input(\"Enter three numbers followed by space : \").split()\n",
        "\n",
        "print(\"First number :\",a)\n",
        "print(\"Second number :\",b)\n",
        "print(\"Third number :\",c)\n",
        "\n",
        "    print(\"Entered numbers are equal!!!\")\n",
        "\n",
        "    print(a,\" is smallest\")\n",
        "\n",
        "    print(b,\" is smallest\")\n",
        "\n",
        "    print(c,\" is smallest\")\n"
      ],
      "execution_count": null,
      "outputs": [
        {
          "output_type": "stream",
          "name": "stdout",
          "text": [
            "Enter three numbers followed by  : 3 -11 12\n",
            "First number : 3\n",
            "Second number : -11\n",
            "Third number : 12\n",
            "-11  is smallest\n"
          ]
        }
      ]
    },
    {
      "cell_type": "markdown",
      "metadata": {
        "id": "aR_CnToWlrTG"
      },
      "source": [
        "## 6. Write a program to print star pyramind. The number of rows should be taken as input from the user"
      ]
    },
    {
      "cell_type": "code",
      "metadata": {
        "id": "M37A-buplrTG",
        "colab": {
          "base_uri": "https://localhost:8080/"
        },
        "outputId": "c746644f-07c4-4973-b2f5-21fc6ff14f46"
      },
      "source": [
        "n = int(input('enter row count'))\n",
        "for i in range(0,n):\n",
        "  for j in range(0,i+1):\n",
        "    print('*',end=\"\")\n",
        "  print('\\r')\n"
      ],
      "execution_count": null,
      "outputs": [
        {
          "output_type": "stream",
          "name": "stdout",
          "text": [
            "enter row count5\n",
            "*\n",
            "**\n",
            "***\n",
            "****\n",
            "*****\n"
          ]
        }
      ]
    },
    {
      "cell_type": "markdown",
      "metadata": {
        "id": "tlY6aFWBlrTH"
      },
      "source": [
        "## 7. Complete the following code to convert hour into seconds. Output should be as displayed"
      ]
    },
    {
      "cell_type": "code",
      "metadata": {
        "id": "YOZQFk7FlrTH",
        "colab": {
          "base_uri": "https://localhost:8080/"
        },
        "outputId": "7fc4194f-9fd2-4225-d5ac-3b89d69463be"
      },
      "source": [
        "def to_seconds(t):\n",
        "    t = t*3600\n",
        "    return t\n",
        "time_in_hours = int(input('Enter time in Hours :'))\n",
        "print(time_in_hours ,\" Hour is equal to\" ,to_seconds(time_in_hours) ,\" Seconds\")"
      ],
      "execution_count": null,
      "outputs": [
        {
          "output_type": "stream",
          "name": "stdout",
          "text": [
            "Enter time in Hours :12\n",
            "12  Hour is equal to 43200  Seconds\n"
          ]
        }
      ]
    },
    {
      "cell_type": "markdown",
      "metadata": {
        "id": "CnYorNiLlrTI"
      },
      "source": [
        "## 8. Write a program to print multiplication table as below"
      ]
    },
    {
      "cell_type": "code",
      "metadata": {
        "id": "dPQqDPuDlrTI",
        "colab": {
          "base_uri": "https://localhost:8080/"
        },
        "outputId": "12f0a89f-671d-4f99-c814-b9c9ca3810a5"
      },
      "source": [
        "n = int(input('Enter a number to find the multiplication table: '))\n",
        "for i in range(1,11):\n",
        "  print(i,' x ',n,' = ',i*n)"
      ],
      "execution_count": null,
      "outputs": [
        {
          "output_type": "stream",
          "name": "stdout",
          "text": [
            "Enter a number to find the multiplication table: 4\n",
            "1  x  4  =  4\n",
            "2  x  4  =  8\n",
            "3  x  4  =  12\n",
            "4  x  4  =  16\n",
            "5  x  4  =  20\n",
            "6  x  4  =  24\n",
            "7  x  4  =  28\n",
            "8  x  4  =  32\n",
            "9  x  4  =  36\n",
            "10  x  4  =  40\n"
          ]
        }
      ]
    },
    {
      "cell_type": "markdown",
      "metadata": {
        "id": "Fiaez8iblrTI"
      },
      "source": [
        "## 9. Write a program to take your 5 favorite food as list and print each as 'I like Biriyani'"
      ]
    },
    {
      "cell_type": "code",
      "metadata": {
        "id": "39W1zFX7lrTJ",
        "colab": {
          "base_uri": "https://localhost:8080/"
        },
        "outputId": "0deff990-24b4-4ff0-95ae-c8071aca1708"
      },
      "source": [
        "food = input('Enter your favorite food list followed by space : ').split()\n",
        "for i in food:\n",
        "  print('I like ',i)\n"
      ],
      "execution_count": null,
      "outputs": [
        {
          "output_type": "stream",
          "name": "stdout",
          "text": [
            "Enter your favorite food list followed by space : Biriyani Apple Orange Grapes Appam\n",
            "I like  Biriyani\n",
            "I like  Apple\n",
            "I like  Orange\n",
            "I like  Grapes\n",
            "I like  Appam\n"
          ]
        }
      ]
    },
    {
      "cell_type": "markdown",
      "metadata": {
        "id": "3vlcDNNEP7d_"
      },
      "source": [
        "## 10. Find error(s) in the following code(if any) and rewrite code.\n",
        "\n"
      ]
    },
    {
      "cell_type": "code",
      "metadata": {
        "id": "coREkcY3P9sG",
        "colab": {
          "base_uri": "https://localhost:8080/"
        },
        "outputId": "968a476a-c0a1-46be-a085-803c17248282"
      },
      "source": [
        "x= int(input(\"Enter value of x:\"))\n",
        "for y in range(0,10):\n",
        "     if x==y:\n",
        "          print(\"They are equal\")\n",
        "     else:\n",
        "         print( \"They are unequal\")"
      ],
      "execution_count": null,
      "outputs": [
        {
          "output_type": "stream",
          "name": "stdout",
          "text": [
            "Enter value of x:6\n",
            "They are unequal\n",
            "They are unequal\n",
            "They are unequal\n",
            "They are unequal\n",
            "They are unequal\n",
            "They are unequal\n",
            "They are equal\n",
            "They are unequal\n",
            "They are unequal\n",
            "They are unequal\n"
          ]
        }
      ]
    }
  ]
}